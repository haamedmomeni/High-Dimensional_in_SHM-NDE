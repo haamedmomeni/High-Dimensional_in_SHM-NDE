{
 "cells": [
  {
   "cell_type": "code",
   "execution_count": 6,
   "metadata": {},
   "outputs": [],
   "source": [
    "from __future__ import division, print_function\n",
    "\n",
    "import numpy as np\n",
    "\n",
    "try:\n",
    "    from pylab import plt\n",
    "except ImportError:\n",
    "    print('Unable to import pylab. R_pca.plot_fit() will not work.')\n",
    "\n",
    "try:\n",
    "    # Python 2: 'xrange' is the iterative version\n",
    "    range = xrange\n",
    "except NameError:\n",
    "    # Python 3: 'range' is iterative - no need for 'xrange'\n",
    "    pass\n",
    "\n",
    "\n",
    "class R_pca:\n",
    "\n",
    "    def __init__(self, D, mu=None, lmbda=None):\n",
    "        self.D = D\n",
    "        self.S = np.zeros(self.D.shape)\n",
    "        self.Y = np.zeros(self.D.shape)\n",
    "\n",
    "        if mu:\n",
    "            self.mu = mu\n",
    "        else:\n",
    "            self.mu = np.prod(self.D.shape) / (4 * np.linalg.norm(self.D, ord=1))\n",
    "\n",
    "        self.mu_inv = 1 / self.mu\n",
    "\n",
    "        if lmbda:\n",
    "            self.lmbda = lmbda\n",
    "        else:\n",
    "            self.lmbda = 1 / np.sqrt(np.max(self.D.shape))\n",
    "\n",
    "    @staticmethod\n",
    "    def frobenius_norm(M):\n",
    "        return np.linalg.norm(M, ord='fro')\n",
    "\n",
    "    @staticmethod\n",
    "    def shrink(M, tau):\n",
    "        return np.sign(M) * np.maximum((np.abs(M) - tau), np.zeros(M.shape))\n",
    "\n",
    "    def svd_threshold(self, M, tau):\n",
    "        U, S, V = np.linalg.svd(M, full_matrices=False)\n",
    "        return np.dot(U, np.dot(np.diag(self.shrink(S, tau)), V))\n",
    "\n",
    "    def fit(self, tol=None, max_iter=1000, iter_print=100):\n",
    "        iter = 0\n",
    "        err = np.Inf\n",
    "        Sk = self.S\n",
    "        Yk = self.Y\n",
    "        Lk = np.zeros(self.D.shape)\n",
    "\n",
    "        if tol:\n",
    "            _tol = tol\n",
    "        else:\n",
    "            _tol = 1E-7 * self.frobenius_norm(self.D)\n",
    "\n",
    "        #this loop implements the principal component pursuit (PCP) algorithm\n",
    "        #located in the table on page 29 of https://arxiv.org/pdf/0912.3599.pdf\n",
    "        while (err > _tol) and iter < max_iter:\n",
    "            Lk = self.svd_threshold(\n",
    "                self.D - Sk + self.mu_inv * Yk, self.mu_inv)                            #this line implements step 3\n",
    "            Sk = self.shrink(\n",
    "                self.D - Lk + (self.mu_inv * Yk), self.mu_inv * self.lmbda)             #this line implements step 4\n",
    "            Yk = Yk + self.mu * (self.D - Lk - Sk)                                      #this line implements step 5\n",
    "            err = self.frobenius_norm(self.D - Lk - Sk)\n",
    "            iter += 1\n",
    "            if (iter % iter_print) == 0 or iter == 1 or iter > max_iter or err <= _tol:\n",
    "                print('iteration: {0}, error: {1}'.format(iter, err))\n",
    "\n",
    "        self.L = Lk\n",
    "        self.S = Sk\n",
    "        return Lk, Sk\n",
    "\n",
    "    def plot_fit(self, size=None, tol=0.1, axis_on=True):\n",
    "\n",
    "        n, d = self.D.shape\n",
    "\n",
    "        if size:\n",
    "            nrows, ncols = size\n",
    "        else:\n",
    "            sq = np.ceil(np.sqrt(n))\n",
    "            nrows = int(sq)\n",
    "            ncols = int(sq)\n",
    "\n",
    "        ymin = np.nanmin(self.D)\n",
    "        ymax = np.nanmax(self.D)\n",
    "        print('ymin: {0}, ymax: {1}'.format(ymin, ymax))\n",
    "\n",
    "        numplots = np.min([n, nrows * ncols])\n",
    "        plt.figure()\n",
    "\n",
    "        for n in range(numplots):\n",
    "            plt.subplot(nrows, ncols, n + 1)\n",
    "            plt.ylim((ymin - tol, ymax + tol))\n",
    "            plt.plot(self.L[n, :] + self.S[n, :], 'r')\n",
    "            plt.plot(self.L[n, :], 'b')\n",
    "            plt.plot(self.S[n, :], 'g')\n",
    "            if not axis_on:\n",
    "                plt.axis('off')"
   ]
  },
  {
   "cell_type": "code",
   "execution_count": 9,
   "metadata": {
    "scrolled": false
   },
   "outputs": [
    {
     "name": "stdout",
     "output_type": "stream",
     "text": [
      "iteration: 1, error: 8.041117775221519\n",
      "iteration: 100, error: 0.014001455184664145\n",
      "iteration: 200, error: 5.319255372093459e-05\n",
      "iteration: 300, error: 4.1986837204864856e-05\n",
      "iteration: 400, error: 3.3205401551547924e-05\n",
      "iteration: 431, error: 2.0841059715701563e-06\n",
      "ymin: 0.8, ymax: 10.2\n"
     ]
    },
    {
     "data": {
      "image/png": "[encoded data removed]",
      "text/plain": [
       "<Figure size 432x288 with 3 Axes>"
      ]
     },
     "metadata": {
      "needs_background": "light"
     },
     "output_type": "display_data"
    },
    {
     "data": {
      "text/plain": [
       "array([[9.7186942 , 5.9999996 , 5.0000006 , 0.99999886, 0.99999887],\n",
       "       [9.5467338 , 5.89676449, 4.9000006 , 0.99990917, 0.99990919],\n",
       "       [9.88632917, 6.09999975, 5.09999909, 0.9962485 , 0.99624852]])"
      ]
     },
     "execution_count": 9,
     "metadata": {},
     "output_type": "execute_result"
    }
   ],
   "source": [
    "import numpy as np\n",
    "\n",
    "# D = np.array([ [10, 6, 5, 1, 1], [10, 1, 3, 2, 2],[0 , 5,2,-1.1, -1.2],[0, 5,2,-1.15, -1.22]])\n",
    "D = np.array([ [10, 6, 5, 1, 1], [10.1, 6.8, 4.9, 1, 1.2],[10.2, 6.1, 5.1, 0.9, 0.8]])\n",
    "# use R_pca to estimate the degraded data as L + S, where L is low rank, and S is sparse\n",
    "rpca = R_pca(D)\n",
    "L, S = rpca.fit(max_iter=10000, iter_print=100)\n",
    "# visually inspect results (requires matplotlib)\n",
    "rpca.plot_fit()\n",
    "plt.show()\n",
    "L"
   ]
  },
  {
   "cell_type": "code",
   "execution_count": 92,
   "metadata": {},
   "outputs": [
    {
     "name": "stdout",
     "output_type": "stream",
     "text": [
      "iteration: 1, error: 0.12005476137674989\n",
      "iteration: 100, error: 0.0005028409380395438\n",
      "iteration: 200, error: 0.00026452856100309634\n",
      "iteration: 300, error: 0.00012910725406405579\n",
      "iteration: 400, error: 3.9278570388056434e-05\n",
      "iteration: 490, error: 1.0083130121804924e-05\n"
     ]
    }
   ],
   "source": [
    "import numpy as np\n",
    "import pandas as pd\n",
    "\n",
    "#G = pd.read_csv('data.csv')\n",
    "G = pd.read_csv('image.csv')\n",
    "#M = np.array([ [[6], [5], [1]], [[1], [3], [2]],[[5],[2],[1]]])\n",
    "N = np.squeeze(np.asarray(G))\n",
    "rpca = R_pca(N)\n",
    "L, E = rpca.fit(max_iter=10000, iter_print=100)\n",
    "df = pd.DataFrame(L)\n",
    "df.to_csv('Lim.csv', index = False)\n",
    "df = pd.DataFrame(E)\n",
    "df.to_csv('Eim.csv', index = False)"
   ]
  },
  {
   "cell_type": "code",
   "execution_count": 4,
   "metadata": {},
   "outputs": [
    {
     "name": "stdout",
     "output_type": "stream",
     "text": [
      "iteration: 1, error: 0.0833860070841239\n",
      "iteration: 100, error: 0.00022806257253852553\n",
      "iteration: 200, error: 0.000238309104282226\n",
      "iteration: 300, error: 0.00021443866316753007\n",
      "iteration: 400, error: 0.00021105674394879265\n",
      "iteration: 432, error: 0.00019314818189955269\n"
     ]
    }
   ],
   "source": [
    "import numpy as np\n",
    "import pandas as pd\n",
    "\n",
    "#G = pd.read_csv('data.csv')\n",
    "# G = pd.read_csv('image.csv')\n",
    "G = pd.read_csv('data.csv')\n",
    "#M = np.array([ [[6], [5], [1]], [[1], [3], [2]],[[5],[2],[1]]])\n",
    "N = np.squeeze(np.asarray(G))\n",
    "rpca = R_pca(N)\n",
    "L, E = rpca.fit(max_iter=10000, iter_print=100)\n",
    "df = pd.DataFrame(L)\n",
    "df.to_csv('L.csv', index = False)\n",
    "df = pd.DataFrame(E)\n",
    "df.to_csv('E.csv', index = False)\n",
    "#print ('L = ', L)\n",
    "#print ('E = ', E)\n",
    "#print ('M = ', L+E )"
   ]
  },
  {
   "cell_type": "code",
   "execution_count": null,
   "metadata": {},
   "outputs": [],
   "source": []
  }
 ],
 "metadata": {
  "kernelspec": {
   "display_name": "Python 3",
   "language": "python",
   "name": "python3"
  },
  "language_info": {
   "codemirror_mode": {
    "name": "ipython",
    "version": 3
   },
   "file_extension": ".py",
   "mimetype": "text/x-python",
   "name": "python",
   "nbconvert_exporter": "python",
   "pygments_lexer": "ipython3",
   "version": "3.8.3"
  }
 },
 "nbformat": 4,
 "nbformat_minor": 4
}
