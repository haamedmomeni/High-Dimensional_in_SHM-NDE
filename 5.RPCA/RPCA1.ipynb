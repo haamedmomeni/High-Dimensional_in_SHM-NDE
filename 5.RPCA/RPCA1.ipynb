{
 "cells": [
  {
   "cell_type": "code",
   "execution_count": 44,
   "metadata": {},
   "outputs": [],
   "source": [
    "import math\n",
    "import numpy.linalg\n",
    "\n",
    "def robust_pca(M):\n",
    "    \"\"\" \n",
    "    Decompose a matrix into low rank and sparse components.\n",
    "    Computes the RPCA decomposition using Alternating Lagrangian Multipliers.\n",
    "    Returns L,S the low rank and sparse components respectively\n",
    "    \"\"\"\n",
    "    L = numpy.zeros(M.shape)\n",
    "    S = numpy.zeros(M.shape)\n",
    "    Y = numpy.zeros(M.shape)\n",
    "    print (M.shape)\n",
    "    mu = (M.shape[0] * M.shape[1]) / (4.0 * L1Norm(M))\n",
    "    lamb = max(M.shape) ** -0.5\n",
    "    while not converged(M,L,S):\n",
    "        L = svd_shrink(M - S - (mu**-1) * Y, mu)\n",
    "        S = shrink(M - L + (mu**-1) * Y, lamb * mu)\n",
    "        Y = Y + mu * (M - L - S)\n",
    "    return L,S\n",
    "    \n",
    "def svd_shrink(X, tau):\n",
    "    \"\"\"\n",
    "    Apply the shrinkage operator to the singular values obtained from the SVD of X.\n",
    "    The parameter tau is used as the scaling parameter to the shrink function.\n",
    "    Returns the matrix obtained by computing U * shrink(s) * V where \n",
    "        U are the left singular vectors of X\n",
    "        V are the right singular vectors of X\n",
    "        s are the singular values as a diagonal matrix\n",
    "    \"\"\"\n",
    "    U,s,V = numpy.linalg.svd(X, full_matrices=False)\n",
    "    return numpy.dot(U, numpy.dot(numpy.diag(shrink(s, tau)), V))\n",
    "    \n",
    "def shrink(X, tau):\n",
    "    \"\"\"\n",
    "    Apply the shrinkage operator the the elements of X.\n",
    "    Returns V such that V[i,j] = max(abs(X[i,j]) - tau,0).\n",
    "    \"\"\"\n",
    "    V = numpy.copy(X).reshape(X.size)\n",
    "    for i in range(V.size):\n",
    "        V[i] = math.copysign(max(abs(V[i]) - tau, 0), V[i])\n",
    "        if V[i] == -0:\n",
    "            V[i] = 0\n",
    "    return V.reshape(X.shape)\n",
    "            \n",
    "def frobeniusNorm(X):\n",
    "    \"\"\"\n",
    "    Evaluate the Frobenius norm of X\n",
    "    Returns sqrt(sum_i sum_j X[i,j] ^ 2)\n",
    "    \"\"\"\n",
    "    accum = 0\n",
    "    V = numpy.reshape(X,X.size)\n",
    "    for i in range(V.size):\n",
    "        accum += abs(V[i] ** 2)\n",
    "    return math.sqrt(accum)\n",
    "\n",
    "def L1Norm(X):\n",
    "    \"\"\"\n",
    "    Evaluate the L1 norm of X\n",
    "    Returns the max over the sum of each column of X\n",
    "    \"\"\"\n",
    "    return max(numpy.sum(X,axis=0))\n",
    "\n",
    "def converged(M,L,S):\n",
    "    \"\"\"\n",
    "    A simple test of convergence based on accuracy of matrix reconstruction\n",
    "    from sparse and low rank parts\n",
    "    \"\"\"\n",
    "    error = frobeniusNorm(M - L - S) / frobeniusNorm(M)\n",
    "    print (\"error =\", error)\n",
    "    return error <= 10e-10"
   ]
  },
  {
   "cell_type": "code",
   "execution_count": 45,
   "metadata": {},
   "outputs": [
    {
     "name": "stdout",
     "output_type": "stream",
     "text": [
      "(3, 5)\n",
      "error = 1.0\n",
      "error = 0.007246966109784946\n",
      "error = 0.0025748625589305254\n",
      "error = 0.0019625378168051225\n",
      "error = 0.0009948081518639433\n",
      "error = 0.0011575346223518933\n",
      "error = 0.0034965257106276573\n",
      "error = 0.002869507287276203\n",
      "error = 0.0018438913951362302\n",
      "error = 0.0026699772979380267\n",
      "error = 0.00036741891622477915\n",
      "error = 0.0007448252346705443\n",
      "error = 0.0017622082300440222\n",
      "error = 0.00241203079773584\n",
      "error = 6.166931241943377e-19\n"
     ]
    },
    {
     "data": {
      "text/plain": [
       "array([[8.54492072, 5.35897209, 4.06403579, 0.53475793, 0.6805714 ],\n",
       "       [8.79315506, 5.51465298, 4.18209812, 0.55029292, 0.70034235],\n",
       "       [8.66786771, 5.43607865, 4.12251041, 0.54245219, 0.69036367]])"
      ]
     },
     "execution_count": 45,
     "metadata": {},
     "output_type": "execute_result"
    },
    {
     "data": {
      "image/png": "[encoded data removed]",
      "text/plain": [
       "<Figure size 432x288 with 3 Axes>"
      ]
     },
     "metadata": {
      "needs_background": "light"
     },
     "output_type": "display_data"
    }
   ],
   "source": [
    "from pylab import plt\n",
    "import numpy as np\n",
    "# D = np.array([ [10, 6, 5, 1, 1], [10, 1, 3, 2, 2],[0 , 5,2,-1.1, -1.2],[0, 5,2,-1.15, -1.22]])\n",
    "D = np.array([ [10, 6, 5, 1, 1], [10.1, 6.8, 4.9, 1, 1.2],[10.2, 6.1, 5.1, 0.9, 0.8]])\n",
    "n, d = D.shape\n",
    "sq = np.ceil(np.sqrt(n))\n",
    "nrows = int(sq)\n",
    "ncols = int(sq)\n",
    "ymin = np.nanmin(D)\n",
    "ymax = np.nanmax(D)\n",
    "numplots = np.min([n, nrows * ncols])\n",
    "plt.figure()\n",
    "\n",
    "[L,E] = robust_pca(D)\n",
    "\n",
    "tol = 0\n",
    "for n in range(numplots):\n",
    "    plt.subplot(nrows, ncols, n + 1)\n",
    "    plt.ylim((ymin - tol, ymax + tol))\n",
    "    plt.plot(L[n, :] + E[n, :], 'r')\n",
    "    plt.plot(L[n, :], 'b')\n",
    "    plt.plot(E[n, :], 'g')\n",
    "L"
   ]
  },
  {
   "cell_type": "code",
   "execution_count": 7,
   "metadata": {},
   "outputs": [
    {
     "name": "stdout",
     "output_type": "stream",
     "text": [
      "(39999, 270)\n",
      "error = 1.0\n",
      "error = 0.29045624173757906\n",
      "error = 0.2804116443948445\n",
      "error = 0.36426596996697796\n",
      "error = 0.20297573178391543\n",
      "error = 0.09034989529248333\n",
      "error = 0.14150715916755796\n",
      "error = 0.14315413642322236\n",
      "error = 0.13419945784089574\n",
      "error = 0.1314103285498007\n",
      "error = 0.12066946425691166\n"
     ]
    },
    {
     "ename": "KeyboardInterrupt",
     "evalue": "",
     "output_type": "error",
     "traceback": [
      "\u001b[1;31m---------------------------------------------------------------------------\u001b[0m",
      "\u001b[1;31mKeyboardInterrupt\u001b[0m                         Traceback (most recent call last)",
      "\u001b[1;32m<ipython-input-7-1c18469e9d5a>\u001b[0m in \u001b[0;36m<module>\u001b[1;34m\u001b[0m\n\u001b[0;32m      7\u001b[0m \u001b[1;31m#M = np.array([ [[6], [5], [1]], [[1], [3], [2]],[[5],[2],[1]]])\u001b[0m\u001b[1;33m\u001b[0m\u001b[1;33m\u001b[0m\u001b[1;33m\u001b[0m\u001b[0m\n\u001b[0;32m      8\u001b[0m \u001b[0mN\u001b[0m \u001b[1;33m=\u001b[0m \u001b[0mnp\u001b[0m\u001b[1;33m.\u001b[0m\u001b[0msqueeze\u001b[0m\u001b[1;33m(\u001b[0m\u001b[0mnp\u001b[0m\u001b[1;33m.\u001b[0m\u001b[0masarray\u001b[0m\u001b[1;33m(\u001b[0m\u001b[0mG\u001b[0m\u001b[1;33m)\u001b[0m\u001b[1;33m)\u001b[0m\u001b[1;33m\u001b[0m\u001b[1;33m\u001b[0m\u001b[0m\n\u001b[1;32m----> 9\u001b[1;33m \u001b[1;33m[\u001b[0m\u001b[0mL\u001b[0m\u001b[1;33m,\u001b[0m\u001b[0mE\u001b[0m\u001b[1;33m]\u001b[0m \u001b[1;33m=\u001b[0m \u001b[0mrobust_pca\u001b[0m\u001b[1;33m(\u001b[0m\u001b[0mN\u001b[0m\u001b[1;33m)\u001b[0m\u001b[1;33m\u001b[0m\u001b[1;33m\u001b[0m\u001b[0m\n\u001b[0m\u001b[0;32m     10\u001b[0m \u001b[0mdf\u001b[0m \u001b[1;33m=\u001b[0m \u001b[0mpd\u001b[0m\u001b[1;33m.\u001b[0m\u001b[0mDataFrame\u001b[0m\u001b[1;33m(\u001b[0m\u001b[0mL\u001b[0m\u001b[1;33m)\u001b[0m\u001b[1;33m\u001b[0m\u001b[1;33m\u001b[0m\u001b[0m\n\u001b[0;32m     11\u001b[0m \u001b[0mdf\u001b[0m\u001b[1;33m.\u001b[0m\u001b[0mto_csv\u001b[0m\u001b[1;33m(\u001b[0m\u001b[1;34m'L15.csv'\u001b[0m\u001b[1;33m,\u001b[0m \u001b[0mindex\u001b[0m \u001b[1;33m=\u001b[0m \u001b[1;32mFalse\u001b[0m\u001b[1;33m)\u001b[0m\u001b[1;33m\u001b[0m\u001b[1;33m\u001b[0m\u001b[0m\n",
      "\u001b[1;32m<ipython-input-6-a379b3d880d3>\u001b[0m in \u001b[0;36mrobust_pca\u001b[1;34m(M)\u001b[0m\n\u001b[0;32m     14\u001b[0m     \u001b[0mmu\u001b[0m \u001b[1;33m=\u001b[0m \u001b[1;33m(\u001b[0m\u001b[0mM\u001b[0m\u001b[1;33m.\u001b[0m\u001b[0mshape\u001b[0m\u001b[1;33m[\u001b[0m\u001b[1;36m0\u001b[0m\u001b[1;33m]\u001b[0m \u001b[1;33m*\u001b[0m \u001b[0mM\u001b[0m\u001b[1;33m.\u001b[0m\u001b[0mshape\u001b[0m\u001b[1;33m[\u001b[0m\u001b[1;36m1\u001b[0m\u001b[1;33m]\u001b[0m\u001b[1;33m)\u001b[0m \u001b[1;33m/\u001b[0m \u001b[1;33m(\u001b[0m\u001b[1;36m4.0\u001b[0m \u001b[1;33m*\u001b[0m \u001b[0mL1Norm\u001b[0m\u001b[1;33m(\u001b[0m\u001b[0mM\u001b[0m\u001b[1;33m)\u001b[0m\u001b[1;33m)\u001b[0m\u001b[1;33m\u001b[0m\u001b[1;33m\u001b[0m\u001b[0m\n\u001b[0;32m     15\u001b[0m     \u001b[0mlamb\u001b[0m \u001b[1;33m=\u001b[0m \u001b[0mmax\u001b[0m\u001b[1;33m(\u001b[0m\u001b[0mM\u001b[0m\u001b[1;33m.\u001b[0m\u001b[0mshape\u001b[0m\u001b[1;33m)\u001b[0m \u001b[1;33m**\u001b[0m \u001b[1;33m-\u001b[0m\u001b[1;36m0.5\u001b[0m\u001b[1;33m\u001b[0m\u001b[1;33m\u001b[0m\u001b[0m\n\u001b[1;32m---> 16\u001b[1;33m     \u001b[1;32mwhile\u001b[0m \u001b[1;32mnot\u001b[0m \u001b[0mconverged\u001b[0m\u001b[1;33m(\u001b[0m\u001b[0mM\u001b[0m\u001b[1;33m,\u001b[0m\u001b[0mL\u001b[0m\u001b[1;33m,\u001b[0m\u001b[0mS\u001b[0m\u001b[1;33m)\u001b[0m\u001b[1;33m:\u001b[0m\u001b[1;33m\u001b[0m\u001b[1;33m\u001b[0m\u001b[0m\n\u001b[0m\u001b[0;32m     17\u001b[0m         \u001b[0mL\u001b[0m \u001b[1;33m=\u001b[0m \u001b[0msvd_shrink\u001b[0m\u001b[1;33m(\u001b[0m\u001b[0mM\u001b[0m \u001b[1;33m-\u001b[0m \u001b[0mS\u001b[0m \u001b[1;33m-\u001b[0m \u001b[1;33m(\u001b[0m\u001b[0mmu\u001b[0m\u001b[1;33m**\u001b[0m\u001b[1;33m-\u001b[0m\u001b[1;36m1\u001b[0m\u001b[1;33m)\u001b[0m \u001b[1;33m*\u001b[0m \u001b[0mY\u001b[0m\u001b[1;33m,\u001b[0m \u001b[0mmu\u001b[0m\u001b[1;33m)\u001b[0m\u001b[1;33m\u001b[0m\u001b[1;33m\u001b[0m\u001b[0m\n\u001b[0;32m     18\u001b[0m         \u001b[0mS\u001b[0m \u001b[1;33m=\u001b[0m \u001b[0mshrink\u001b[0m\u001b[1;33m(\u001b[0m\u001b[0mM\u001b[0m \u001b[1;33m-\u001b[0m \u001b[0mL\u001b[0m \u001b[1;33m+\u001b[0m \u001b[1;33m(\u001b[0m\u001b[0mmu\u001b[0m\u001b[1;33m**\u001b[0m\u001b[1;33m-\u001b[0m\u001b[1;36m1\u001b[0m\u001b[1;33m)\u001b[0m \u001b[1;33m*\u001b[0m \u001b[0mY\u001b[0m\u001b[1;33m,\u001b[0m \u001b[0mlamb\u001b[0m \u001b[1;33m*\u001b[0m \u001b[0mmu\u001b[0m\u001b[1;33m)\u001b[0m\u001b[1;33m\u001b[0m\u001b[1;33m\u001b[0m\u001b[0m\n",
      "\u001b[1;32m<ipython-input-6-a379b3d880d3>\u001b[0m in \u001b[0;36mconverged\u001b[1;34m(M, L, S)\u001b[0m\n\u001b[0;32m     67\u001b[0m     \u001b[1;32mfrom\u001b[0m \u001b[0msparse\u001b[0m \u001b[1;32mand\u001b[0m \u001b[0mlow\u001b[0m \u001b[0mrank\u001b[0m \u001b[0mparts\u001b[0m\u001b[1;33m\u001b[0m\u001b[1;33m\u001b[0m\u001b[0m\n\u001b[0;32m     68\u001b[0m     \"\"\"\n\u001b[1;32m---> 69\u001b[1;33m     \u001b[0merror\u001b[0m \u001b[1;33m=\u001b[0m \u001b[0mfrobeniusNorm\u001b[0m\u001b[1;33m(\u001b[0m\u001b[0mM\u001b[0m \u001b[1;33m-\u001b[0m \u001b[0mL\u001b[0m \u001b[1;33m-\u001b[0m \u001b[0mS\u001b[0m\u001b[1;33m)\u001b[0m \u001b[1;33m/\u001b[0m \u001b[0mfrobeniusNorm\u001b[0m\u001b[1;33m(\u001b[0m\u001b[0mM\u001b[0m\u001b[1;33m)\u001b[0m\u001b[1;33m\u001b[0m\u001b[1;33m\u001b[0m\u001b[0m\n\u001b[0m\u001b[0;32m     70\u001b[0m     \u001b[0mprint\u001b[0m \u001b[1;33m(\u001b[0m\u001b[1;34m\"error =\"\u001b[0m\u001b[1;33m,\u001b[0m \u001b[0merror\u001b[0m\u001b[1;33m)\u001b[0m\u001b[1;33m\u001b[0m\u001b[1;33m\u001b[0m\u001b[0m\n\u001b[0;32m     71\u001b[0m     \u001b[1;32mreturn\u001b[0m \u001b[0merror\u001b[0m \u001b[1;33m<=\u001b[0m \u001b[1;36m10e-10\u001b[0m\u001b[1;33m\u001b[0m\u001b[1;33m\u001b[0m\u001b[0m\n",
      "\u001b[1;32m<ipython-input-6-a379b3d880d3>\u001b[0m in \u001b[0;36mfrobeniusNorm\u001b[1;34m(X)\u001b[0m\n\u001b[0;32m     52\u001b[0m     \u001b[0mV\u001b[0m \u001b[1;33m=\u001b[0m \u001b[0mnumpy\u001b[0m\u001b[1;33m.\u001b[0m\u001b[0mreshape\u001b[0m\u001b[1;33m(\u001b[0m\u001b[0mX\u001b[0m\u001b[1;33m,\u001b[0m\u001b[0mX\u001b[0m\u001b[1;33m.\u001b[0m\u001b[0msize\u001b[0m\u001b[1;33m)\u001b[0m\u001b[1;33m\u001b[0m\u001b[1;33m\u001b[0m\u001b[0m\n\u001b[0;32m     53\u001b[0m     \u001b[1;32mfor\u001b[0m \u001b[0mi\u001b[0m \u001b[1;32min\u001b[0m \u001b[0mrange\u001b[0m\u001b[1;33m(\u001b[0m\u001b[0mV\u001b[0m\u001b[1;33m.\u001b[0m\u001b[0msize\u001b[0m\u001b[1;33m)\u001b[0m\u001b[1;33m:\u001b[0m\u001b[1;33m\u001b[0m\u001b[1;33m\u001b[0m\u001b[0m\n\u001b[1;32m---> 54\u001b[1;33m         \u001b[0maccum\u001b[0m \u001b[1;33m+=\u001b[0m \u001b[0mabs\u001b[0m\u001b[1;33m(\u001b[0m\u001b[0mV\u001b[0m\u001b[1;33m[\u001b[0m\u001b[0mi\u001b[0m\u001b[1;33m]\u001b[0m \u001b[1;33m**\u001b[0m \u001b[1;36m2\u001b[0m\u001b[1;33m)\u001b[0m\u001b[1;33m\u001b[0m\u001b[1;33m\u001b[0m\u001b[0m\n\u001b[0m\u001b[0;32m     55\u001b[0m     \u001b[1;32mreturn\u001b[0m \u001b[0mmath\u001b[0m\u001b[1;33m.\u001b[0m\u001b[0msqrt\u001b[0m\u001b[1;33m(\u001b[0m\u001b[0maccum\u001b[0m\u001b[1;33m)\u001b[0m\u001b[1;33m\u001b[0m\u001b[1;33m\u001b[0m\u001b[0m\n\u001b[0;32m     56\u001b[0m \u001b[1;33m\u001b[0m\u001b[0m\n",
      "\u001b[1;31mKeyboardInterrupt\u001b[0m: "
     ]
    }
   ],
   "source": [
    "import numpy as np\n",
    "import pandas as pd\n",
    "\n",
    "#G = pd.read_csv('data.csv')\n",
    "# G = pd.read_csv('image.csv')\n",
    "G = pd.read_csv('data15.csv')\n",
    "#M = np.array([ [[6], [5], [1]], [[1], [3], [2]],[[5],[2],[1]]])\n",
    "N = np.squeeze(np.asarray(G))\n",
    "[L,E] = robust_pca(N)\n",
    "df = pd.DataFrame(L)\n",
    "df.to_csv('L15.csv', index = False)\n",
    "df = pd.DataFrame(E)\n",
    "df.to_csv('E15.csv', index = False)\n",
    "#print ('L = ', L)\n",
    "#print ('E = ', E)\n",
    "#print ('M = ', L+E )"
   ]
  },
  {
   "cell_type": "code",
   "execution_count": null,
   "metadata": {},
   "outputs": [],
   "source": []
  }
 ],
 "metadata": {
  "kernelspec": {
   "display_name": "Python 3",
   "language": "python",
   "name": "python3"
  },
  "language_info": {
   "codemirror_mode": {
    "name": "ipython",
    "version": 3
   },
   "file_extension": ".py",
   "mimetype": "text/x-python",
   "name": "python",
   "nbconvert_exporter": "python",
   "pygments_lexer": "ipython3",
   "version": "3.8.3"
  }
 },
 "nbformat": 4,
 "nbformat_minor": 4
}
